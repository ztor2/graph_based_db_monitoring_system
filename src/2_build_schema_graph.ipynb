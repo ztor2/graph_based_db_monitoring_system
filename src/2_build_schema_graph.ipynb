{
 "cells": [
  {
   "cell_type": "code",
   "execution_count": 124,
   "id": "6f943ed8-3d87-43dd-af81-b455ab335e51",
   "metadata": {},
   "outputs": [],
   "source": [
    "import psycopg2\n",
    "import psycopg2.extras\n",
    "import pandas as pd\n",
    "import random\n",
    "from collections import defaultdict"
   ]
  },
  {
   "cell_type": "code",
   "execution_count": 92,
   "id": "0ba1d7ad-2c92-4064-b3ba-ffde7d84143f",
   "metadata": {},
   "outputs": [],
   "source": [
    "conn = psycopg2.connect(\"dbname=dvdrental host='192.168.16.16' user='ags14' port=5430 password='bitnine123!'\")\n",
    "conn.autocommit = True\n",
    "cursor = conn.cursor(cursor_factory=psycopg2.extras.RealDictCursor)"
   ]
  },
  {
   "cell_type": "code",
   "execution_count": 93,
   "id": "77a6a19d-2c74-480a-8c12-e45116628857",
   "metadata": {},
   "outputs": [],
   "source": [
    "cursor.execute(\"\"\"\n",
    "                  SELECT table_name\n",
    "                  FROM information_schema.tables\n",
    "                  WHERE table_schema = 'public'\n",
    "                \"\"\")"
   ]
  },
  {
   "cell_type": "code",
   "execution_count": 94,
   "id": "baf3a42a-47f6-4f34-9d66-09f082727c50",
   "metadata": {},
   "outputs": [
    {
     "name": "stdout",
     "output_type": "stream",
     "text": [
      "22\n"
     ]
    },
    {
     "data": {
      "text/plain": [
       "['actor',\n",
       " 'actor_info',\n",
       " 'customer_list',\n",
       " 'film_list',\n",
       " 'nicer_but_slower_film_list',\n",
       " 'sales_by_film_category',\n",
       " 'store',\n",
       " 'sales_by_store',\n",
       " 'staff_list',\n",
       " 'address',\n",
       " 'category',\n",
       " 'city',\n",
       " 'country',\n",
       " 'customer',\n",
       " 'film_actor',\n",
       " 'film_category',\n",
       " 'inventory',\n",
       " 'language',\n",
       " 'rental',\n",
       " 'staff',\n",
       " 'payment',\n",
       " 'film']"
      ]
     },
     "execution_count": 94,
     "metadata": {},
     "output_type": "execute_result"
    }
   ],
   "source": [
    "tables = cursor.fetchall()\n",
    "tables = [i['table_name'] for i in tables]\n",
    "tables.remove('table_column_tbl_sh')\n",
    "tables.remove('table_relation_sh')\n",
    "tables.remove('pg_stat_statements_info')\n",
    "tables.remove('pg_stat_statements')\n",
    "tables.remove('table_column_info')\n",
    "tables.remove('table_column_tbl')\n",
    "tables.remove('table_relation')\n",
    "print(len(tables))\n",
    "tables"
   ]
  },
  {
   "cell_type": "code",
   "execution_count": 95,
   "id": "d730d3ed-4276-493b-82f8-b72ea0492506",
   "metadata": {},
   "outputs": [],
   "source": [
    "for idx, i in enumerate(range(len(nodes))):\n",
    "    nodes['table_name'].iloc[i]"
   ]
  },
  {
   "cell_type": "code",
   "execution_count": 96,
   "id": "ebea3cf7-4f1a-42cf-b39d-19819f9bd390",
   "metadata": {},
   "outputs": [
    {
     "name": "stdout",
     "output_type": "stream",
     "text": [
      "RealDictRow([('table_name', 'actor'), ('column_name', 'actor_id'), ('data_type', 'integer')])\n",
      "128\n"
     ]
    }
   ],
   "source": [
    "table_n_cols = []\n",
    "for i in tables:\n",
    "    cursor.execute(f\"\"\"\n",
    "                      SELECT table_name, column_name, data_type\n",
    "                      FROM information_schema.columns\n",
    "                      WHERE table_name = '{i}'\n",
    "                    \"\"\")\n",
    "    tmp = cursor.fetchall()\n",
    "    for j in tmp:\n",
    "        table_n_cols.append(j)\n",
    "print(table_n_cols[0])\n",
    "print(len(table_n_cols))"
   ]
  },
  {
   "cell_type": "code",
   "execution_count": 129,
   "id": "1fb35ea6-09e5-457f-8c1e-ed475f21298d",
   "metadata": {},
   "outputs": [],
   "source": [
    "import json"
   ]
  },
  {
   "cell_type": "code",
   "execution_count": 136,
   "id": "633eac0f-ea17-497d-ab27-55a4c5f97b2e",
   "metadata": {},
   "outputs": [],
   "source": [
    "table_n_cols_converted = [dict(row) for row in table_n_cols]"
   ]
  },
  {
   "cell_type": "code",
   "execution_count": 142,
   "id": "30a2aa06-02eb-4128-a36d-e616523818c1",
   "metadata": {},
   "outputs": [],
   "source": [
    "with open(\"table_n_cols.json\", \"w\", encoding='utf-8') as f:\n",
    "    json.dump(table_n_cols, f)"
   ]
  },
  {
   "cell_type": "code",
   "execution_count": 144,
   "id": "744a1377-8851-4ca9-b845-02bf3c60cb58",
   "metadata": {},
   "outputs": [
    {
     "data": {
      "text/plain": [
       "[{'table_name': 'actor', 'column_name': 'actor_id', 'data_type': 'integer'},\n",
       " {'table_name': 'actor',\n",
       "  'column_name': 'first_name',\n",
       "  'data_type': 'character varying'},\n",
       " {'table_name': 'actor',\n",
       "  'column_name': 'last_name',\n",
       "  'data_type': 'character varying'},\n",
       " {'table_name': 'actor',\n",
       "  'column_name': 'last_update',\n",
       "  'data_type': 'timestamp without time zone'},\n",
       " {'table_name': 'actor_info',\n",
       "  'column_name': 'actor_id',\n",
       "  'data_type': 'integer'}]"
      ]
     },
     "execution_count": 144,
     "metadata": {},
     "output_type": "execute_result"
    }
   ],
   "source": [
    "with open(\"table_n_cols.json\", 'r') as f:\n",
    "    data = json.load(f)\n",
    "data[:5]"
   ]
  },
  {
   "cell_type": "code",
   "execution_count": 126,
   "id": "1ea92a08-2ea0-4e12-8b17-5553b2e09d95",
   "metadata": {},
   "outputs": [
    {
     "ename": "TypeError",
     "evalue": "first argument must be callable or None",
     "output_type": "error",
     "traceback": [
      "\u001b[0;31m---------------------------------------------------------------------------\u001b[0m",
      "\u001b[0;31mTypeError\u001b[0m                                 Traceback (most recent call last)",
      "Cell \u001b[0;32mIn[126], line 2\u001b[0m\n\u001b[1;32m      1\u001b[0m table_n_cols_converted \u001b[38;5;241m=\u001b[39m [\u001b[38;5;28mdict\u001b[39m(row) \u001b[38;5;28;01mfor\u001b[39;00m row \u001b[38;5;129;01min\u001b[39;00m table_n_cols]\n\u001b[0;32m----> 2\u001b[0m grouped_data \u001b[38;5;241m=\u001b[39m \u001b[43mdefaultdict\u001b[49m\u001b[43m(\u001b[49m\u001b[43mtable_n_cols_converted\u001b[49m\u001b[43m)\u001b[49m\n\u001b[1;32m      3\u001b[0m \u001b[38;5;28;01mfor\u001b[39;00m row \u001b[38;5;129;01min\u001b[39;00m rows:\n\u001b[1;32m      4\u001b[0m     grouped_data[row[\u001b[38;5;124m'\u001b[39m\u001b[38;5;124mtable_name\u001b[39m\u001b[38;5;124m'\u001b[39m]]\u001b[38;5;241m.\u001b[39mappend(row[\u001b[38;5;124m'\u001b[39m\u001b[38;5;124mcolumn_name\u001b[39m\u001b[38;5;124m'\u001b[39m])\n",
      "\u001b[0;31mTypeError\u001b[0m: first argument must be callable or None"
     ]
    }
   ],
   "source": [
    "table_n_cols_converted = [dict(row) for row in table_n_cols]\n",
    "grouped_data = defaultdict(table_n_cols_converted)\n",
    "for row in rows:\n",
    "    grouped_data[row['table_name']].append(row['column_name'])\n",
    "\n",
    "# Converting the defaultdict to the desired JSON format\n",
    "result = [{table: columns} for table, columns in grouped_data.items()]\n",
    "result"
   ]
  },
  {
   "cell_type": "code",
   "execution_count": 119,
   "id": "e06e6df3-2791-47be-8526-b048d45d8c20",
   "metadata": {},
   "outputs": [
    {
     "data": {
      "text/plain": [
       "'actor'"
      ]
     },
     "execution_count": 119,
     "metadata": {},
     "output_type": "execute_result"
    }
   ],
   "source": [
    "table_n_cols[0]['table_name']"
   ]
  },
  {
   "cell_type": "code",
   "execution_count": null,
   "id": "d7dca98b-840a-4ab8-a979-4d24210750fa",
   "metadata": {},
   "outputs": [],
   "source": [
    "for i in table_n_cols:\n",
    "    keys = i.keys()\n",
    "    for key in keys:\n",
    "        if i[key] in None:\n",
    "            i[key] = i[key]\n",
    "        else: \n",
    "            old = i[key]\n",
    "            old.append(value)\n",
    "        i[key] = values"
   ]
  },
  {
   "cell_type": "code",
   "execution_count": 97,
   "id": "53fc18bc-a3f4-45c7-bb8c-9776953c4f35",
   "metadata": {},
   "outputs": [
    {
     "name": "stdout",
     "output_type": "stream",
     "text": [
      "num of tables : 22\n",
      "num of columns : 58\n"
     ]
    },
    {
     "data": {
      "text/html": [
       "<div>\n",
       "<style scoped>\n",
       "    .dataframe tbody tr th:only-of-type {\n",
       "        vertical-align: middle;\n",
       "    }\n",
       "\n",
       "    .dataframe tbody tr th {\n",
       "        vertical-align: top;\n",
       "    }\n",
       "\n",
       "    .dataframe thead th {\n",
       "        text-align: right;\n",
       "    }\n",
       "</style>\n",
       "<table border=\"1\" class=\"dataframe\">\n",
       "  <thead>\n",
       "    <tr style=\"text-align: right;\">\n",
       "      <th></th>\n",
       "      <th>table_name</th>\n",
       "      <th>column_name</th>\n",
       "      <th>data_type</th>\n",
       "    </tr>\n",
       "  </thead>\n",
       "  <tbody>\n",
       "    <tr>\n",
       "      <th>0</th>\n",
       "      <td>actor</td>\n",
       "      <td>actor_id</td>\n",
       "      <td>integer</td>\n",
       "    </tr>\n",
       "    <tr>\n",
       "      <th>1</th>\n",
       "      <td>actor</td>\n",
       "      <td>first_name</td>\n",
       "      <td>character varying</td>\n",
       "    </tr>\n",
       "    <tr>\n",
       "      <th>2</th>\n",
       "      <td>actor</td>\n",
       "      <td>last_name</td>\n",
       "      <td>character varying</td>\n",
       "    </tr>\n",
       "    <tr>\n",
       "      <th>3</th>\n",
       "      <td>actor</td>\n",
       "      <td>last_update</td>\n",
       "      <td>timestamp without time zone</td>\n",
       "    </tr>\n",
       "    <tr>\n",
       "      <th>4</th>\n",
       "      <td>actor_info</td>\n",
       "      <td>actor_id</td>\n",
       "      <td>integer</td>\n",
       "    </tr>\n",
       "    <tr>\n",
       "      <th>...</th>\n",
       "      <td>...</td>\n",
       "      <td>...</td>\n",
       "      <td>...</td>\n",
       "    </tr>\n",
       "    <tr>\n",
       "      <th>123</th>\n",
       "      <td>film</td>\n",
       "      <td>replacement_cost</td>\n",
       "      <td>numeric</td>\n",
       "    </tr>\n",
       "    <tr>\n",
       "      <th>124</th>\n",
       "      <td>film</td>\n",
       "      <td>rating</td>\n",
       "      <td>USER-DEFINED</td>\n",
       "    </tr>\n",
       "    <tr>\n",
       "      <th>125</th>\n",
       "      <td>film</td>\n",
       "      <td>last_update</td>\n",
       "      <td>timestamp without time zone</td>\n",
       "    </tr>\n",
       "    <tr>\n",
       "      <th>126</th>\n",
       "      <td>film</td>\n",
       "      <td>special_features</td>\n",
       "      <td>ARRAY</td>\n",
       "    </tr>\n",
       "    <tr>\n",
       "      <th>127</th>\n",
       "      <td>film</td>\n",
       "      <td>fulltext</td>\n",
       "      <td>tsvector</td>\n",
       "    </tr>\n",
       "  </tbody>\n",
       "</table>\n",
       "<p>128 rows × 3 columns</p>\n",
       "</div>"
      ],
      "text/plain": [
       "     table_name       column_name                    data_type\n",
       "0         actor          actor_id                      integer\n",
       "1         actor        first_name            character varying\n",
       "2         actor         last_name            character varying\n",
       "3         actor       last_update  timestamp without time zone\n",
       "4    actor_info          actor_id                      integer\n",
       "..          ...               ...                          ...\n",
       "123        film  replacement_cost                      numeric\n",
       "124        film            rating                 USER-DEFINED\n",
       "125        film       last_update  timestamp without time zone\n",
       "126        film  special_features                        ARRAY\n",
       "127        film          fulltext                     tsvector\n",
       "\n",
       "[128 rows x 3 columns]"
      ]
     },
     "execution_count": 97,
     "metadata": {},
     "output_type": "execute_result"
    }
   ],
   "source": [
    "df = pd.DataFrame(table_n_cols)\n",
    "print(f\"num of tables : {len(list(set(df['table_name'])))}\")\n",
    "print(f\"num of columns : {len(list(set(df['column_name'])))}\")\n",
    "df"
   ]
  },
  {
   "cell_type": "code",
   "execution_count": null,
   "id": "e3612a00-b256-4ce4-8d25-f87b0d58cf6d",
   "metadata": {},
   "outputs": [],
   "source": [
    "for i in range(len(df)):\n",
    "    qwe"
   ]
  },
  {
   "cell_type": "code",
   "execution_count": 98,
   "id": "12a3a8ff-d67b-4e26-ad03-8985123a848c",
   "metadata": {},
   "outputs": [
    {
     "data": {
      "text/plain": [
       "['actor_id',\n",
       " 'first_name',\n",
       " 'last_name',\n",
       " 'last_update',\n",
       " 'film_info',\n",
       " 'id',\n",
       " 'name',\n",
       " 'address',\n",
       " 'zip code',\n",
       " 'phone',\n",
       " 'city',\n",
       " 'country',\n",
       " 'notes',\n",
       " 'sid',\n",
       " 'fid',\n",
       " 'title',\n",
       " 'description',\n",
       " 'category',\n",
       " 'price',\n",
       " 'length',\n",
       " 'rating',\n",
       " 'actors',\n",
       " 'total_sales',\n",
       " 'store_id',\n",
       " 'manager_staff_id',\n",
       " 'address_id',\n",
       " 'store',\n",
       " 'manager',\n",
       " 'address2',\n",
       " 'district',\n",
       " 'city_id',\n",
       " 'postal_code',\n",
       " 'category_id',\n",
       " 'country_id',\n",
       " 'customer_id',\n",
       " 'email',\n",
       " 'activebool',\n",
       " 'create_date',\n",
       " 'active',\n",
       " 'film_id',\n",
       " 'inventory_id',\n",
       " 'language_id',\n",
       " 'rental_id',\n",
       " 'rental_date',\n",
       " 'return_date',\n",
       " 'staff_id',\n",
       " 'username',\n",
       " 'password',\n",
       " 'picture',\n",
       " 'payment_id',\n",
       " 'amount',\n",
       " 'payment_date',\n",
       " 'release_year',\n",
       " 'rental_duration',\n",
       " 'rental_rate',\n",
       " 'replacement_cost',\n",
       " 'special_features',\n",
       " 'fulltext']"
      ]
     },
     "execution_count": 98,
     "metadata": {},
     "output_type": "execute_result"
    }
   ],
   "source": [
    "cols = df['column_name'].unique().tolist()\n",
    "cols"
   ]
  },
  {
   "cell_type": "code",
   "execution_count": 99,
   "id": "f061ccc1-4a39-4ac6-ba9f-ff832aa4994c",
   "metadata": {},
   "outputs": [
    {
     "data": {
      "text/plain": [
       "58"
      ]
     },
     "execution_count": 99,
     "metadata": {},
     "output_type": "execute_result"
    }
   ],
   "source": [
    "len(cols)"
   ]
  },
  {
   "cell_type": "markdown",
   "id": "cf95be93-a681-473f-98db-f5e58197d790",
   "metadata": {},
   "source": [
    "- AGE 초기 설정"
   ]
  },
  {
   "cell_type": "code",
   "execution_count": 100,
   "id": "19a6586e-7fc8-4fcc-87b3-aa6a7cb6220c",
   "metadata": {},
   "outputs": [],
   "source": [
    "cursor.execute(f\"\"\"\n",
    "                SET search_path TO ag_catalog;\n",
    "                \"\"\")"
   ]
  },
  {
   "cell_type": "markdown",
   "id": "2afe5b8d-3766-4596-8cd8-7306f4584d60",
   "metadata": {},
   "source": [
    "- 레이블 생성"
   ]
  },
  {
   "cell_type": "code",
   "execution_count": 192,
   "id": "3c6e4a29-9830-43ce-850c-85b4dd9af6f7",
   "metadata": {},
   "outputs": [],
   "source": [
    "# cursor.execute(\"\"\" \n",
    "#                SELECT ag_catalog.create_vlabel('graph_v2', 'table');\n",
    "#                \"\"\")"
   ]
  },
  {
   "cell_type": "code",
   "execution_count": 55,
   "id": "1d678dad-96cb-459b-bcab-0aa96a7e2458",
   "metadata": {},
   "outputs": [],
   "source": [
    "# cursor.execute(\"\"\" \n",
    "#                SELECT ag_catalog.create_vlabel('graph_v2', 'column');\n",
    "#                \"\"\")"
   ]
  },
  {
   "cell_type": "markdown",
   "id": "49214434-de11-4fa5-9b0b-68734ac605ed",
   "metadata": {},
   "source": [
    "- 노드 생성"
   ]
  },
  {
   "cell_type": "code",
   "execution_count": 104,
   "id": "65193643-f4c5-4a9c-b0ff-cb52013ccebb",
   "metadata": {},
   "outputs": [],
   "source": [
    "table_nodes = list(set(df['table_name']))"
   ]
  },
  {
   "cell_type": "code",
   "execution_count": 105,
   "id": "cf8438f7-289a-40f1-830a-59492feeca57",
   "metadata": {},
   "outputs": [],
   "source": [
    "for i in table_nodes:\n",
    "    cursor.execute(f\"\"\" \n",
    "                   SELECT * FROM cypher('graph_v2',$$\n",
    "                   MERGE (:table {{table_name: '{i}'}}) \n",
    "                   $$) as (p agtype);\n",
    "                   \"\"\")"
   ]
  },
  {
   "cell_type": "code",
   "execution_count": 106,
   "id": "09c4fa4a-ae71-4c8a-8968-298fae522c54",
   "metadata": {},
   "outputs": [],
   "source": [
    "for i in cols:\n",
    "    cursor.execute(f\"\"\" \n",
    "                   SELECT * FROM cypher('graph_v2',$$\n",
    "                   MERGE (:column {{column_name: '{i}'}}) \n",
    "                   $$) as (p agtype);\n",
    "                   \"\"\")"
   ]
  },
  {
   "cell_type": "markdown",
   "id": "9265f1ad-9d6a-4d8d-9125-0f72ca3880c8",
   "metadata": {},
   "source": [
    "- 엣지 생성(테이블-테이블)"
   ]
  },
  {
   "cell_type": "code",
   "execution_count": 107,
   "id": "696d5125-c9ec-41bd-b56c-b813beaba4f1",
   "metadata": {},
   "outputs": [],
   "source": [
    "cursor.execute(\"\"\"SELECT tc.table_name,\n",
    "                         ccu.column_name AS foreign_key_column,\n",
    "                         ccu.table_name AS references_table\n",
    "                         FROM information_schema.table_constraints tc\n",
    "                         LEFT JOIN information_schema.constraint_column_usage ccu\n",
    "                         ON tc.constraint_name = ccu.constraint_name\n",
    "                         WHERE LOWER(tc.constraint_type) IN ('foreign key')\n",
    "                         AND tc.table_name != 'ag_label'\n",
    "                         \"\"\")"
   ]
  },
  {
   "cell_type": "code",
   "execution_count": 108,
   "id": "e8092ab1-17cc-4381-9f5a-93a6b3d046e5",
   "metadata": {},
   "outputs": [
    {
     "data": {
      "text/html": [
       "<div>\n",
       "<style scoped>\n",
       "    .dataframe tbody tr th:only-of-type {\n",
       "        vertical-align: middle;\n",
       "    }\n",
       "\n",
       "    .dataframe tbody tr th {\n",
       "        vertical-align: top;\n",
       "    }\n",
       "\n",
       "    .dataframe thead th {\n",
       "        text-align: right;\n",
       "    }\n",
       "</style>\n",
       "<table border=\"1\" class=\"dataframe\">\n",
       "  <thead>\n",
       "    <tr style=\"text-align: right;\">\n",
       "      <th></th>\n",
       "      <th>table_name</th>\n",
       "      <th>foreign_key_column</th>\n",
       "      <th>references_table</th>\n",
       "    </tr>\n",
       "  </thead>\n",
       "  <tbody>\n",
       "    <tr>\n",
       "      <th>0</th>\n",
       "      <td>customer</td>\n",
       "      <td>address_id</td>\n",
       "      <td>address</td>\n",
       "    </tr>\n",
       "    <tr>\n",
       "      <th>1</th>\n",
       "      <td>film_actor</td>\n",
       "      <td>actor_id</td>\n",
       "      <td>actor</td>\n",
       "    </tr>\n",
       "    <tr>\n",
       "      <th>2</th>\n",
       "      <td>film_actor</td>\n",
       "      <td>film_id</td>\n",
       "      <td>film</td>\n",
       "    </tr>\n",
       "    <tr>\n",
       "      <th>3</th>\n",
       "      <td>film_category</td>\n",
       "      <td>category_id</td>\n",
       "      <td>category</td>\n",
       "    </tr>\n",
       "    <tr>\n",
       "      <th>4</th>\n",
       "      <td>film_category</td>\n",
       "      <td>film_id</td>\n",
       "      <td>film</td>\n",
       "    </tr>\n",
       "    <tr>\n",
       "      <th>5</th>\n",
       "      <td>film</td>\n",
       "      <td>language_id</td>\n",
       "      <td>language</td>\n",
       "    </tr>\n",
       "    <tr>\n",
       "      <th>6</th>\n",
       "      <td>address</td>\n",
       "      <td>city_id</td>\n",
       "      <td>city</td>\n",
       "    </tr>\n",
       "    <tr>\n",
       "      <th>7</th>\n",
       "      <td>city</td>\n",
       "      <td>country_id</td>\n",
       "      <td>country</td>\n",
       "    </tr>\n",
       "    <tr>\n",
       "      <th>8</th>\n",
       "      <td>inventory</td>\n",
       "      <td>film_id</td>\n",
       "      <td>film</td>\n",
       "    </tr>\n",
       "    <tr>\n",
       "      <th>9</th>\n",
       "      <td>payment</td>\n",
       "      <td>customer_id</td>\n",
       "      <td>customer</td>\n",
       "    </tr>\n",
       "    <tr>\n",
       "      <th>10</th>\n",
       "      <td>payment</td>\n",
       "      <td>rental_id</td>\n",
       "      <td>rental</td>\n",
       "    </tr>\n",
       "    <tr>\n",
       "      <th>11</th>\n",
       "      <td>payment</td>\n",
       "      <td>staff_id</td>\n",
       "      <td>staff</td>\n",
       "    </tr>\n",
       "    <tr>\n",
       "      <th>12</th>\n",
       "      <td>rental</td>\n",
       "      <td>customer_id</td>\n",
       "      <td>customer</td>\n",
       "    </tr>\n",
       "    <tr>\n",
       "      <th>13</th>\n",
       "      <td>rental</td>\n",
       "      <td>inventory_id</td>\n",
       "      <td>inventory</td>\n",
       "    </tr>\n",
       "    <tr>\n",
       "      <th>14</th>\n",
       "      <td>rental</td>\n",
       "      <td>staff_id</td>\n",
       "      <td>staff</td>\n",
       "    </tr>\n",
       "    <tr>\n",
       "      <th>15</th>\n",
       "      <td>staff</td>\n",
       "      <td>address_id</td>\n",
       "      <td>address</td>\n",
       "    </tr>\n",
       "    <tr>\n",
       "      <th>16</th>\n",
       "      <td>store</td>\n",
       "      <td>address_id</td>\n",
       "      <td>address</td>\n",
       "    </tr>\n",
       "    <tr>\n",
       "      <th>17</th>\n",
       "      <td>store</td>\n",
       "      <td>staff_id</td>\n",
       "      <td>staff</td>\n",
       "    </tr>\n",
       "  </tbody>\n",
       "</table>\n",
       "</div>"
      ],
      "text/plain": [
       "       table_name foreign_key_column references_table\n",
       "0        customer         address_id          address\n",
       "1      film_actor           actor_id            actor\n",
       "2      film_actor            film_id             film\n",
       "3   film_category        category_id         category\n",
       "4   film_category            film_id             film\n",
       "5            film        language_id         language\n",
       "6         address            city_id             city\n",
       "7            city         country_id          country\n",
       "8       inventory            film_id             film\n",
       "9         payment        customer_id         customer\n",
       "10        payment          rental_id           rental\n",
       "11        payment           staff_id            staff\n",
       "12         rental        customer_id         customer\n",
       "13         rental       inventory_id        inventory\n",
       "14         rental           staff_id            staff\n",
       "15          staff         address_id          address\n",
       "16          store         address_id          address\n",
       "17          store           staff_id            staff"
      ]
     },
     "execution_count": 108,
     "metadata": {},
     "output_type": "execute_result"
    }
   ],
   "source": [
    "raw_rels = cursor.fetchall()\n",
    "rels = pd.DataFrame(raw_rels)\n",
    "rels"
   ]
  },
  {
   "cell_type": "code",
   "execution_count": 109,
   "id": "e858d5a3-9954-4176-86b1-e30db745a103",
   "metadata": {},
   "outputs": [],
   "source": [
    "# for i in range(len(rels)):\n",
    "#     table_1 = rels.iloc[i]['table_name']\n",
    "#     fkey = rels.iloc[i]['foreign_key_column']\n",
    "#     table_2 = rels.iloc[i]['references_table']\n",
    "#     cursor.execute(f\"\"\" \n",
    "#                    SELECT * from cypher('graph_v2', $$\n",
    "#                    MATCH (v1:table), (v2:table)\n",
    "#                    where v1.table_name = '{table_1}' and v2.table_name = '{table_2}'\n",
    "#                    create (v1)-[e:ref {{fkey: '{fkey}'}}]->(v2)\n",
    "#                    return e\n",
    "#                    $$) as (e agtype);\n",
    "#                    \"\"\")"
   ]
  },
  {
   "cell_type": "code",
   "execution_count": 110,
   "id": "b19fcec0-4e06-4972-9ddd-a3ed12eb2a08",
   "metadata": {},
   "outputs": [],
   "source": [
    "for i in range(len(rels)):\n",
    "    table_1 = rels.iloc[i]['table_name']\n",
    "    fkey = rels.iloc[i]['foreign_key_column']\n",
    "    table_2 = rels.iloc[i]['references_table']\n",
    "    count = 0\n",
    "    cursor.execute(f\"\"\" \n",
    "                   SELECT * from cypher('graph_v2', $$\n",
    "                   MATCH (v1:table), (v2:table)\n",
    "                   WHERE v1.table_name = '{table_1}' and v2.table_name = '{table_2}'\n",
    "                   CREATE (v1)-[e:ref {{fkey: '{fkey}', count:{count} }}]->(v2)\n",
    "                   RETURN e\n",
    "                   $$) AS (e agtype);\n",
    "                   \"\"\")"
   ]
  },
  {
   "cell_type": "markdown",
   "id": "f19da175-70ce-443f-9187-0e93e371a5d6",
   "metadata": {},
   "source": [
    "- 엣지 생성(테이블-컬럼)"
   ]
  },
  {
   "cell_type": "code",
   "execution_count": 111,
   "id": "62867240-1c21-4ad9-9751-f4474bdf419f",
   "metadata": {},
   "outputs": [
    {
     "data": {
      "text/html": [
       "<div>\n",
       "<style scoped>\n",
       "    .dataframe tbody tr th:only-of-type {\n",
       "        vertical-align: middle;\n",
       "    }\n",
       "\n",
       "    .dataframe tbody tr th {\n",
       "        vertical-align: top;\n",
       "    }\n",
       "\n",
       "    .dataframe thead th {\n",
       "        text-align: right;\n",
       "    }\n",
       "</style>\n",
       "<table border=\"1\" class=\"dataframe\">\n",
       "  <thead>\n",
       "    <tr style=\"text-align: right;\">\n",
       "      <th></th>\n",
       "      <th>table_name</th>\n",
       "      <th>column_name</th>\n",
       "      <th>data_type</th>\n",
       "    </tr>\n",
       "  </thead>\n",
       "  <tbody>\n",
       "    <tr>\n",
       "      <th>0</th>\n",
       "      <td>actor</td>\n",
       "      <td>actor_id</td>\n",
       "      <td>integer</td>\n",
       "    </tr>\n",
       "    <tr>\n",
       "      <th>1</th>\n",
       "      <td>actor</td>\n",
       "      <td>first_name</td>\n",
       "      <td>character varying</td>\n",
       "    </tr>\n",
       "    <tr>\n",
       "      <th>2</th>\n",
       "      <td>actor</td>\n",
       "      <td>last_name</td>\n",
       "      <td>character varying</td>\n",
       "    </tr>\n",
       "    <tr>\n",
       "      <th>3</th>\n",
       "      <td>actor</td>\n",
       "      <td>last_update</td>\n",
       "      <td>timestamp without time zone</td>\n",
       "    </tr>\n",
       "    <tr>\n",
       "      <th>4</th>\n",
       "      <td>actor_info</td>\n",
       "      <td>actor_id</td>\n",
       "      <td>integer</td>\n",
       "    </tr>\n",
       "    <tr>\n",
       "      <th>...</th>\n",
       "      <td>...</td>\n",
       "      <td>...</td>\n",
       "      <td>...</td>\n",
       "    </tr>\n",
       "    <tr>\n",
       "      <th>123</th>\n",
       "      <td>film</td>\n",
       "      <td>replacement_cost</td>\n",
       "      <td>numeric</td>\n",
       "    </tr>\n",
       "    <tr>\n",
       "      <th>124</th>\n",
       "      <td>film</td>\n",
       "      <td>rating</td>\n",
       "      <td>USER-DEFINED</td>\n",
       "    </tr>\n",
       "    <tr>\n",
       "      <th>125</th>\n",
       "      <td>film</td>\n",
       "      <td>last_update</td>\n",
       "      <td>timestamp without time zone</td>\n",
       "    </tr>\n",
       "    <tr>\n",
       "      <th>126</th>\n",
       "      <td>film</td>\n",
       "      <td>special_features</td>\n",
       "      <td>ARRAY</td>\n",
       "    </tr>\n",
       "    <tr>\n",
       "      <th>127</th>\n",
       "      <td>film</td>\n",
       "      <td>fulltext</td>\n",
       "      <td>tsvector</td>\n",
       "    </tr>\n",
       "  </tbody>\n",
       "</table>\n",
       "<p>128 rows × 3 columns</p>\n",
       "</div>"
      ],
      "text/plain": [
       "     table_name       column_name                    data_type\n",
       "0         actor          actor_id                      integer\n",
       "1         actor        first_name            character varying\n",
       "2         actor         last_name            character varying\n",
       "3         actor       last_update  timestamp without time zone\n",
       "4    actor_info          actor_id                      integer\n",
       "..          ...               ...                          ...\n",
       "123        film  replacement_cost                      numeric\n",
       "124        film            rating                 USER-DEFINED\n",
       "125        film       last_update  timestamp without time zone\n",
       "126        film  special_features                        ARRAY\n",
       "127        film          fulltext                     tsvector\n",
       "\n",
       "[128 rows x 3 columns]"
      ]
     },
     "execution_count": 111,
     "metadata": {},
     "output_type": "execute_result"
    }
   ],
   "source": [
    "df"
   ]
  },
  {
   "cell_type": "code",
   "execution_count": 112,
   "id": "b41c68f2-7532-4529-8eea-b2a24398f899",
   "metadata": {},
   "outputs": [],
   "source": [
    "for i in range(len(df)):\n",
    "    table_name = df.iloc[i]['table_name']\n",
    "    column_name = df.iloc[i]['column_name']\n",
    "    count = 0\n",
    "    cursor.execute(f\"\"\" \n",
    "                   SELECT * from cypher('graph_v2', $$\n",
    "                   MATCH (v1:table), (v2:column)\n",
    "                   where v1.table_name = '{table_name}' and v2.column_name = '{column_name}'\n",
    "                   create (v1)-[e:include {{ count: {count} }}]->(v2)\n",
    "                   return e\n",
    "                   $$) as (e agtype);\n",
    "                   \"\"\")"
   ]
  },
  {
   "cell_type": "code",
   "execution_count": null,
   "id": "205f74b1-7216-42fa-9219-6bd32d390290",
   "metadata": {},
   "outputs": [],
   "source": []
  }
 ],
 "metadata": {
  "kernelspec": {
   "display_name": "Python 3 (ipykernel)",
   "language": "python",
   "name": "python3"
  },
  "language_info": {
   "codemirror_mode": {
    "name": "ipython",
    "version": 3
   },
   "file_extension": ".py",
   "mimetype": "text/x-python",
   "name": "python",
   "nbconvert_exporter": "python",
   "pygments_lexer": "ipython3",
   "version": "3.10.13"
  }
 },
 "nbformat": 4,
 "nbformat_minor": 5
}
